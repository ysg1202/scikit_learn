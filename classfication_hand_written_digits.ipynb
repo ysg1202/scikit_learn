{
  "nbformat": 4,
  "nbformat_minor": 0,
  "metadata": {
    "colab": {
      "provenance": [],
      "authorship_tag": "ABX9TyNp62Rwmj26ksUWVuPshRxt",
      "include_colab_link": true
    },
    "kernelspec": {
      "name": "python3",
      "display_name": "Python 3"
    },
    "language_info": {
      "name": "python"
    }
  },
  "cells": [
    {
      "cell_type": "markdown",
      "metadata": {
        "id": "view-in-github",
        "colab_type": "text"
      },
      "source": [
        "<a href=\"https://colab.research.google.com/github/ysg1202/scikit_learn/blob/main/classfication_hand_written_digits.ipynb\" target=\"_parent\"><img src=\"https://colab.research.google.com/assets/colab-badge.svg\" alt=\"Open In Colab\"/></a>"
      ]
    },
    {
      "cell_type": "markdown",
      "source": [
        "# 1. Problem description\n",
        "- 목적: 수기로 씌어진 0-9까지의 숫자 이미지로부터 해당 숫자 식별 (ex. '1' > 1)"
      ],
      "metadata": {
        "id": "Up_CBK57MkcK"
      }
    },
    {
      "cell_type": "code",
      "execution_count": null,
      "metadata": {
        "id": "VHZPcHRc_PPv"
      },
      "outputs": [],
      "source": [
        "# Authors: The scikit-learn developers\n",
        "# SPDX-License-Identifier: BSD-3-Clause\n",
        "\n",
        "# Standard scientific Python imports\n",
        "import matplotlib.pyplot as plt\n",
        "\n",
        "# Import datasets, classifiers and performance metrics\n",
        "from sklearn import datasets, metrics, svm\n",
        "from sklearn.model_selection import train_test_split"
      ]
    },
    {
      "cell_type": "markdown",
      "source": [
        "# 2. Digits dataset\n",
        "- scikit-learn 라이브러리에서 이미지 분류 실습을 위해 제공되는 기본 데이터셋\n",
        "- Image size: 8-by-8 pixel (grayscale)\n",
        "- Sample 갯수: 1,797개\n",
        "- Classes: 10 (0-9)\n",
        "- Feature format (학습을 위한 데이터 형태): 1d array of 64 pixel values\n",
        "- Target (모델의 추론 결과): 0-9 사이 정수"
      ],
      "metadata": {
        "id": "nmF9OUPzMpPX"
      }
    },
    {
      "cell_type": "code",
      "source": [
        "digits = datasets.load_digits()\n",
        "\n",
        "_, axes = plt.subplots(nrows=1, ncols=4, figsize=(10, 3))\n",
        "for ax, image, label in zip(axes, digits.images, digits.target): # 일부 이미지 시현\n",
        "    ax.set_axis_off()\n",
        "    ax.imshow(image, cmap=plt.cm.gray_r, interpolation=\"nearest\")\n",
        "    ax.set_title(\"Training: %i\" % label)"
      ],
      "metadata": {
        "colab": {
          "base_uri": "https://localhost:8080/",
          "height": 227
        },
        "id": "x8zGTilPLW95",
        "outputId": "4b20be04-7354-46dd-ca1b-91139f82fe6f"
      },
      "execution_count": null,
      "outputs": [
        {
          "output_type": "display_data",
          "data": {
            "text/plain": [
              "<Figure size 1000x300 with 4 Axes>"
            ],
            "image/png": "[encoded data removed]"
          },
          "metadata": {}
        }
      ]
    },
    {
      "cell_type": "markdown",
      "source": [
        "# 3. Classification\n",
        "주어진 이미지를 0~9까지의 정수로 분류하기 위한 절차\n",
        "\n",
        "1. 이미지를 1D array로 변환\n",
        "- why? scikit-learn에서 학습 데이터는 (n_samples, n_features) 의 2차원 배열 형태\n",
        "- 각 sample은 1차원 배열로 간주됨\n",
        "2. 전체 데이터셋을 학습 데이터(train subsets)와  \n",
        " 테스트 데이터(test subsets)로 구분\n",
        "\n",
        "3. fit() method 호출 > 모델 학습\n",
        "\n",
        "4. predict() method 호출 > 테스트 데이터를 이용한 추론"
      ],
      "metadata": {
        "id": "qL2OP5dkM1ga"
      }
    },
    {
      "cell_type": "code",
      "source": [
        "# flatten the images\n",
        "n_samples = len(digits.images)\n",
        "data = digits.images.reshape((n_samples, -1)) # 1차원 배열로 바꿈\n",
        "\n",
        "# Create a classifier: a support vector classifier\n",
        "clf = svm.SVC(gamma=0.001)\n",
        "\n",
        "# Split data into 50% train and 50% test subsets\n",
        "X_train, X_test, y_train, y_test = train_test_split(\n",
        "    data, digits.target, test_size=0.5, shuffle=False\n",
        ")\n",
        "\n",
        "# Learn the digits on the train subset\n",
        "clf.fit(X_train, y_train)\n",
        "\n",
        "# Predict the value of the digit on the test subset\n",
        "predicted = clf.predict(X_test)\n",
        "\n",
        "\n",
        "# 추론 결과 중 일부 시각화\n",
        "_, axes = plt.subplots(nrows=1, ncols=4, figsize=(10, 3))\n",
        "for ax, image, prediction in zip(axes, X_test, predicted):\n",
        "    ax.set_axis_off()\n",
        "    image = image.reshape(8, 8)\n",
        "    ax.imshow(image, cmap=plt.cm.gray_r, interpolation=\"nearest\")\n",
        "    ax.set_title(f\"Prediction: {prediction}\")"
      ],
      "metadata": {
        "colab": {
          "base_uri": "https://localhost:8080/",
          "height": 227
        },
        "id": "gnPvx58oLZ9S",
        "outputId": "3ebefb39-a548-4e2c-b29c-933783912389"
      },
      "execution_count": null,
      "outputs": [
        {
          "output_type": "display_data",
          "data": {
            "text/plain": [
              "<Figure size 1000x300 with 4 Axes>"
            ],
            "image/png": "[encoded data removed]"
          },
          "metadata": {}
        }
      ]
    },
    {
      "cell_type": "markdown",
      "source": [
        "# 4. Model Evaluation\n",
        "추론 결과와 정답 데이터로부터 모델의 분류 (classification) 성능 평가\n",
        "\n",
        "sklearn.metrics module: 모델 성능 평가를 위한 method 제공\n",
        "\n",
        "- classification metrics: 모델이 분류를 얼마나 잘 했는가?\n",
        "- classification_report(): 분류 성능 측정 결과 출력\n",
        "- regression metrics: 모델이 수치 예측을 얼마나 잘 했는가?\n",
        "- clustering metrics: 모델이 군집화를 얼마나 잘 했는가?\n",
        "...\n",
        "- precision, recall, f1-score, support\n",
        "\n",
        "- confusion matrix"
      ],
      "metadata": {
        "id": "5aZDBDDXNRCR"
      }
    },
    {
      "cell_type": "code",
      "source": [
        "print(\n",
        "    f\"Classification report for classifier {clf}:\\n\"\n",
        "    f\"{metrics.classification_report(y_test, predicted)}\\n\"\n",
        ")"
      ],
      "metadata": {
        "colab": {
          "base_uri": "https://localhost:8080/"
        },
        "id": "TCz8IJ5fNeNL",
        "outputId": "72751354-ef85-4e73-ccb0-e7bc8b23467e"
      },
      "execution_count": null,
      "outputs": [
        {
          "output_type": "stream",
          "name": "stdout",
          "text": [
            "Classification report for classifier SVC(gamma=0.001):\n",
            "              precision    recall  f1-score   support\n",
            "\n",
            "           0       1.00      0.99      0.99        88\n",
            "           1       0.99      0.97      0.98        91\n",
            "           2       0.99      0.99      0.99        86\n",
            "           3       0.98      0.87      0.92        91\n",
            "           4       0.99      0.96      0.97        92\n",
            "           5       0.95      0.97      0.96        91\n",
            "           6       0.99      0.99      0.99        91\n",
            "           7       0.96      0.99      0.97        89\n",
            "           8       0.94      1.00      0.97        88\n",
            "           9       0.93      0.98      0.95        92\n",
            "\n",
            "    accuracy                           0.97       899\n",
            "   macro avg       0.97      0.97      0.97       899\n",
            "weighted avg       0.97      0.97      0.97       899\n",
            "\n",
            "\n"
          ]
        }
      ]
    }
  ]
}